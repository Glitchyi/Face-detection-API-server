{
 "cells": [
  {
   "cell_type": "code",
   "execution_count": 2,
   "metadata": {},
   "outputs": [
    {
     "name": "stderr",
     "output_type": "stream",
     "text": [
      "Downloading: \"https://download.pytorch.org/models/resnet50-11ad3fa6.pth\" to /home/glitchy/.cache/torch/hub/checkpoints/resnet50-11ad3fa6.pth\n",
      "100.0%\n"
     ]
    }
   ],
   "source": [
    "import torchvision\n",
    "import openvino as ov\n",
    "\n",
    "\n",
    "model = torchvision.models.resnet50(weights='DEFAULT')\n",
    "ov_model = ov.convert_model(model)\n"
   ]
  },
  {
   "cell_type": "code",
   "execution_count": 3,
   "metadata": {},
   "outputs": [
    {
     "ename": "TypeError",
     "evalue": "save_model(): incompatible function arguments. The following argument types are supported:\n    1. (model: ov::Model, output_model: object, compress_to_fp16: bool = True) -> None\n\nInvoked with: <Model: 'Model2'\ninputs[\n<ConstOutput: names[x] shape[?,3,?,?] type: f32>\n]\noutputs[\n<ConstOutput: names[x.45] shape[?,1000] type: f32>\n]>, 'model.xml', 'model.bin'",
     "output_type": "error",
     "traceback": [
      "\u001b[0;31m---------------------------------------------------------------------------\u001b[0m",
      "\u001b[0;31mTypeError\u001b[0m                                 Traceback (most recent call last)",
      "Cell \u001b[0;32mIn[3], line 1\u001b[0m\n\u001b[0;32m----> 1\u001b[0m \u001b[43mov\u001b[49m\u001b[38;5;241;43m.\u001b[39;49m\u001b[43msave_model\u001b[49m\u001b[43m(\u001b[49m\u001b[43mov_model\u001b[49m\u001b[43m,\u001b[49m\u001b[43m \u001b[49m\u001b[38;5;124;43m\"\u001b[39;49m\u001b[38;5;124;43mmodel.xml\u001b[39;49m\u001b[38;5;124;43m\"\u001b[39;49m\u001b[43m,\u001b[49m\u001b[43m \u001b[49m\u001b[38;5;124;43m\"\u001b[39;49m\u001b[38;5;124;43mmodel.bin\u001b[39;49m\u001b[38;5;124;43m\"\u001b[39;49m\u001b[43m)\u001b[49m\n",
      "\u001b[0;31mTypeError\u001b[0m: save_model(): incompatible function arguments. The following argument types are supported:\n    1. (model: ov::Model, output_model: object, compress_to_fp16: bool = True) -> None\n\nInvoked with: <Model: 'Model2'\ninputs[\n<ConstOutput: names[x] shape[?,3,?,?] type: f32>\n]\noutputs[\n<ConstOutput: names[x.45] shape[?,1000] type: f32>\n]>, 'model.xml', 'model.bin'"
     ]
    }
   ],
   "source": [
    "ov.save_model(ov_model, \"model.xml\", \"model.bin\")"
   ]
  }
 ],
 "metadata": {
  "kernelspec": {
   "display_name": "openvino",
   "language": "python",
   "name": "python3"
  },
  "language_info": {
   "codemirror_mode": {
    "name": "ipython",
    "version": 3
   },
   "file_extension": ".py",
   "mimetype": "text/x-python",
   "name": "python",
   "nbconvert_exporter": "python",
   "pygments_lexer": "ipython3",
   "version": "3.11.2"
  }
 },
 "nbformat": 4,
 "nbformat_minor": 2
}
